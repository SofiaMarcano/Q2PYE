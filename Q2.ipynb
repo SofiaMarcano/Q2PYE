{
 "cells": [
  {
   "cell_type": "markdown",
   "id": "6014ec2a",
   "metadata": {},
   "source": [
    "Hecho por:\n",
    "Carmen Lucia Samaniego\n",
    "Daniela Lucia Donado\n",
    "Sofia Marcano Posada"
   ]
  },
  {
   "cell_type": "code",
   "execution_count": 82,
   "id": "a5461e1c",
   "metadata": {},
   "outputs": [],
   "source": [
    "import pandas as pd\n",
    "import numpy as np\n",
    "import scipy.stats as stats\n",
    "import matplotlib.pyplot as plt\n",
    "from scipy.stats import shapiro, levene, mannwhitneyu, ttest_ind, binomtest\n",
    "from statsmodels.stats.proportion import proportions_ztest\n",
    "\n",
    "def test_normalitySW(data, variable):\n",
    "    shapiro_stat, shapiro_p = shapiro(data)\n",
    "    print(f\"Normalidad Shapiro-Wilk para {variable}: estadístico = {shapiro_stat:.4f}, p = {shapiro_p:.4f}\")\n",
    "\n",
    "def test_homogeneityL(var1, var2, name1, name2):\n",
    "    levene_stat, levene_p = stats.levene(var1, var2)\n",
    "    print(f\"Levene entre {name1} y {name2}: estadístico = {levene_stat:.4f}, p = {levene_p:.4f}\")\n",
    "\n",
    "def t_test_two_sample(datos1, datos2):\n",
    "    t_stat, p_value = ttest_ind(datos1, datos2)\n",
    "    print(f\"Prueba t para dos muestras: t = {t_stat:.4f}, p = {p_value:.4f}\")\n",
    "\n",
    "def U_Mann_W(datos1, datos2):\n",
    "    stat, p_value = mannwhitneyu(datos1, datos2, alternative='two-sided')\n",
    "    print(f\"Mann-Whitney U: estadístico = {stat}, p = {p_value:.4f}\")\n",
    "    return p_value\n",
    "def test_normalityKS(data, variable): # Pruaba de Normalidad Kolmogorov-Smirnof  \n",
    "    print(f\"\\n Análisis de normalidad por Kolmogorov-Smirnov para '{variable}'\")\n",
    "    ks_stat, ks_p = stats.kstest(data, 'norm', args=(np.mean(data), np.std(data)))\n",
    "    print(f\" Estadístico = {ks_stat}, p-valor = {ks_p}\")\n",
    "    return ks_p\n",
    "def box_cox(data):\n",
    "    b, l = stats.boxcox(data)  \n",
    "    print(f\"Lambda Box–Cox = {l:.4f}\\n\")\n",
    "    return b, l\n",
    "def proportions(exitos, n, proportion, variable, direccion):  # Z-test\n",
    "    print(f\"\\nPrueba de proporciones para {variable} (z-test)\")\n",
    "    stat, p_value = proportions_ztest(count=exitos, nobs=n, value=proportion, alternative=direccion)\n",
    "    print(f\"Estadístico z = {stat:.4f}, Valor_p = {p_value}\")\n",
    "    return stat, p_value\n",
    "def binomial(exitos, k, prop, direccion):\n",
    "    print(f\"\\nPrueba Binomial para {k} ensayos\")\n",
    "    result = binomtest(exitos, n=k, p=prop, alternative=direccion)\n",
    "    print(f\"Valor_p = {result.pvalue}\")\n",
    "    return result.pvalue\n",
    "    "
   ]
  },
  {
   "cell_type": "code",
   "execution_count": 71,
   "id": "3f62ddbf",
   "metadata": {},
   "outputs": [],
   "source": [
    "df = pd.read_csv(\"heart_attack_prediction_dataset.csv\")"
   ]
  },
  {
   "cell_type": "markdown",
   "id": "5aa1bd59",
   "metadata": {},
   "source": [
    "#  Inciso 1 — Colesterol promedio en quienes sufrieron infarto y en quienes no\n",
    "H0: El valor promedio de colesterol de los pacientes que sufrieron infarto es mayor o igual a 200 mg/dL.\n",
    "\n",
    "H1: El valor promedio de colesterol de los pacientes que sufrieron infarto es menor a 200 mg/dL."
   ]
  },
  {
   "cell_type": "markdown",
   "id": "a9da493c",
   "metadata": {},
   "source": [
    "# Inciso 2 — Diferencias de colesterol por edad (<50 vs ≥50)\n",
    "H0: El prom de colesterol de los pacientes< de 50 años es igual al de los pacientes > de 50 años.\n",
    "\n",
    "H1: El promedio de colesterol de los pacientes < de 50 años es diferente al de los pacientes >de 50 años."
   ]
  },
  {
   "cell_type": "markdown",
   "id": "23347abf",
   "metadata": {},
   "source": [
    "# Inciso 3 — ¿Hay diferencia en el tiempo de ejercicio entre personas que sufrieron infarto y las que no?\n",
    "H0: El promedio de horas de ejercicio semanal de los pacientes que sufrieron infarto es igual al de los pacientes que no sufrieron un infarto.\n",
    "\n",
    "H1: El promedio de horas de ejercicio semanal de los pacientes que sufrieron infarto es diferente al de los pacientes que no sufrieron un infarto."
   ]
  },
  {
   "cell_type": "code",
   "execution_count": 85,
   "id": "a4bec51f",
   "metadata": {},
   "outputs": [
    {
     "name": "stdout",
     "output_type": "stream",
     "text": [
      "N no-infarto: 5624, N infarto: 3139\n",
      "No-infarto: media=9.9662, mediana=9.9142\n",
      "Infarto:    media=10.1005, mediana=10.2921\n"
     ]
    }
   ],
   "source": [
    "data = df[[\"Exercise Hours Per Week\", \"Heart Attack Risk\"]].dropna()\n",
    "data[\"Exercise Hours Per Week\"] = pd.to_numeric(data[\"Exercise Hours Per Week\"], errors=\"coerce\")\n",
    "data[\"Heart Attack Risk\"] = pd.to_numeric(data[\"Heart Attack Risk\"], errors=\"coerce\")\n",
    "\n",
    "# Separar grupos\n",
    "ex_no  = data[data[\"Heart Attack Risk\"] == 0][\"Exercise Hours Per Week\"].dropna()\n",
    "ex_yes = data[data[\"Heart Attack Risk\"] == 1][\"Exercise Hours Per Week\"].dropna()\n",
    "print(f\"N no-infarto: {len(ex_no)}, N infarto: {len(ex_yes)}\")\n",
    "print(f\"No-infarto: media={ex_no.mean():.4f}, mediana={ex_no.median():.4f}\")\n",
    "print(f\"Infarto:    media={ex_yes.mean():.4f}, mediana={ex_yes.median():.4f}\")"
   ]
  },
  {
   "cell_type": "code",
   "execution_count": 86,
   "id": "7b09c35e",
   "metadata": {},
   "outputs": [
    {
     "name": "stdout",
     "output_type": "stream",
     "text": [
      "\n",
      " Análisis de normalidad por Kolmogorov-Smirnov para 'No infarto (original)'\n",
      " Estadístico = 0.060444229974461416, p-valor = 2.645633343652403e-18\n",
      "\n",
      " Análisis de normalidad por Kolmogorov-Smirnov para 'Infarto (original)'\n",
      " Estadístico = 0.06307739541623741, p-valor = 2.6657304139880403e-11\n",
      "No-infarto: distribución rara  hay que aplicar BoxCox\n",
      "Infarto: distribución rara hay que aplicar BoxCox\n"
     ]
    }
   ],
   "source": [
    "p_no = test_normalityKS(ex_no, \"No infarto (original)\")\n",
    "p_yes = test_normalityKS(ex_yes, \"Infarto (original)\")\n",
    "\n",
    "# Aviso si no es normal\n",
    "if p_no <= 0.05:\n",
    "    print(\"No-infarto: distribución rara  hay que aplicar BoxCox\")\n",
    "else:\n",
    "    print(\"No-infarto: distribución aprox. normal\")\n",
    "\n",
    "if p_yes <= 0.05:\n",
    "    print(\"Infarto: distribución rara hay que aplicar BoxCox\")\n",
    "else:\n",
    "    print(\"Infarto: distribución aprox. normal\")"
   ]
  },
  {
   "cell_type": "code",
   "execution_count": 87,
   "id": "3c0f53b8",
   "metadata": {},
   "outputs": [
    {
     "name": "stdout",
     "output_type": "stream",
     "text": [
      "Lambda Box–Cox = 0.7051\n",
      "\n",
      "Box–Cox aplicado a No-infarto\n",
      "\n",
      " Análisis de normalidad por Kolmogorov-Smirnov para 'No infarto (Box–Cox)'\n",
      " Estadístico = 0.06505455843274899, p-valor = 3.890007312829406e-21\n",
      "Lambda Box–Cox = 0.7231\n",
      "\n",
      "Box–Cox aplicado a Infarto\n",
      "\n",
      " Análisis de normalidad por Kolmogorov-Smirnov para 'Infarto (Box–Cox)'\n",
      " Estadístico = 0.07301839697499835, p-valor = 5.330483340504595e-15\n"
     ]
    }
   ],
   "source": [
    "u = False\n",
    "lam_no = lam_yes = None\n",
    "\n",
    "if p_no <= 0.05:\n",
    "    ex_no, lam_no = box_cox(ex_no)\n",
    "    print(\"Box–Cox aplicado a No-infarto\")\n",
    "    p_no = test_normalityKS(ex_no, \"No infarto (Box–Cox)\")\n",
    "    u = True\n",
    "\n",
    "if p_yes <= 0.05:\n",
    "    ex_yes, lam_yes = box_cox(ex_yes)\n",
    "    print(\"Box–Cox aplicado a Infarto\")\n",
    "    p_yes = test_normalityKS(ex_yes, \"Infarto (Box–Cox)\")\n",
    "    u = True"
   ]
  },
  {
   "cell_type": "code",
   "execution_count": 88,
   "id": "52054087",
   "metadata": {},
   "outputs": [
    {
     "name": "stdout",
     "output_type": "stream",
     "text": [
      "Levene entre No-infarto y Infarto: estadístico = 10.9774, p = 0.0009\n",
      "Si p > 0.05 significa que las varianzas son similares; si p <= 0.05 significa que las varianzas son diferentes\n",
      "\n"
     ]
    }
   ],
   "source": [
    "lev_p = test_homogeneityL(ex_no, ex_yes, \"No-infarto\", \"Infarto\")\n",
    "print(\"Si p > 0.05 significa que las varianzas son similares; si p <= 0.05 significa que las varianzas son diferentes\\n\")\n",
    "\n"
   ]
  },
  {
   "cell_type": "code",
   "execution_count": null,
   "id": "7d091f3c",
   "metadata": {},
   "outputs": [
    {
     "name": "stdout",
     "output_type": "stream",
     "text": [
      "Mann-Whitney U: estadístico = 8411981.0, p = 0.0003\n",
      "Diferencia significativa entre grupos (p=0.0003) → rechazar H0\n",
      " -----Implica que la cantidad de horas de ejercicio difiere entre quienes tuvieron infarto y quienes no.\n"
     ]
    }
   ],
   "source": [
    "if p_no > 0.05 and p_yes > 0.05:\n",
    "    # Si Ambos grupos normales, revisamos varianzas\n",
    "    lev_stat, lev_p = stats.levene(ex_no, ex_yes)\n",
    "    if lev_p > 0.05:\n",
    "        t_test_two_sample(ex_no, ex_yes)\n",
    "    else:\n",
    "        print(\"Varianzas diferentes usar Mann-Whitney U\")\n",
    "        final_p = U_Mann_W(ex_no, ex_yes)\n",
    "else:\n",
    "    final_p = U_Mann_W(ex_no, ex_yes)\n",
    "if final_p < 0.05:\n",
    "    print(f\"Diferencia significativa entre grupos (p={final_p:.4f}) → rechazar H0\")\n",
    "    print(\" -----Implica que la cantidad de horas de ejercicio difiere entre quienes tuvieron infarto y quienes no.\")\n",
    "else:\n",
    "    print(f\"No hay evidencia de diferencia entre grupos (p={final_p:.4f}) → no rechazar H0\")\n",
    "    print(\"  -----Implica que no se encontro evidencia estadistica de que las horas de ejercicio sean distintas entre los grupos.\")\n"
   ]
  },
  {
   "cell_type": "code",
   "execution_count": 90,
   "id": "3bb8fb6a",
   "metadata": {},
   "outputs": [
    {
     "data": {
      "image/png": "[encoded data removed]",
      "text/plain": [
       "<Figure size 1400x500 with 2 Axes>"
      ]
     },
     "metadata": {},
     "output_type": "display_data"
    }
   ],
   "source": [
    "\n",
    "fig, axes = plt.subplots(1, 2, figsize=(14,5), sharey=True)\n",
    "axes[0].hist(data.loc[data[\"Heart Attack Risk\"]==0, \"Exercise Hours Per Week\"],color=\"steelblue\",\n",
    "             bins=30 , label=\"No infarto\")\n",
    "axes[0].hist(data.loc[data[\"Heart Attack Risk\"]==1, \"Exercise Hours Per Week\"], color=\"salmon\",\n",
    "             bins=30, label=\"Infarto\")\n",
    "axes[0].set_title(\"Original\")\n",
    "axes[0].set_xlabel(\"Exercise Hours Per Week\")\n",
    "axes[0].set_ylabel(\"Frecuencia\")\n",
    "axes[0].legend()\n",
    "if u:\n",
    "    axes[1].hist(ex_no, bins=30, label=\"No infarto (BoxCox)\",color=\"steelblue\")\n",
    "    axes[1].hist(ex_yes, bins=30, label=\"Infarto (BoxCox)\",color=\"salmon\")\n",
    "    axes[1].set_title(\"Transformación BoxCox\")\n",
    "    axes[1].set_xlabel(\"Exercise Hours Per Week (BoxCox)\")\n",
    "    axes[1].legend()\n",
    "else:\n",
    "    axes[1].text(0.5, 0.5, \"No se aplicó BoxCox\", ha='center', va='center')\n",
    "    axes[1].set_title(\"BoxCox\")\n",
    "    axes[1].set_xticks([])\n",
    "    axes[1].set_yticks([])\n",
    "\n",
    "plt.tight_layout()\n",
    "plt.show()\n"
   ]
  },
  {
   "cell_type": "markdown",
   "id": "37551d3a",
   "metadata": {},
   "source": [
    "### Comparación de histogramas\n",
    "\n",
    "- **Original:** muestra la distribución real de horas de ejercicio en ambos grupos.\n",
    "  - Se observa que los datos son “raros”, no siguen una normal.\n",
    "- **Box–Cox aplicada:** aunque se aplica la transformación, la distribución sigue viéndose rara.\n",
    "  - Box–Cox ayuda a ajustar, pero no garantiza normalidad perfecta.\n",
    "- Esto explica por qué es necesario usar pruebas no paramétricas (Mann-Whitney) para comparar los grupos.\n"
   ]
  },
  {
   "cell_type": "markdown",
   "id": "10894fef",
   "metadata": {},
   "source": [
    "# Inciso 4 — Diferencias en triglicéridos entre obesos y no obesos\n",
    "H0: El promedio de TAG en pacientes obesos es igual al de los pacientes no obesos\n",
    "\n",
    "H1 El promedio de TAG  en pacientes obesos es diferente al de los pacientes no obesos"
   ]
  },
  {
   "cell_type": "markdown",
   "id": "41bbead7",
   "metadata": {},
   "source": [
    "# Inciso 5 — Proporción de personas con diabetes entre quienes tuvieron infarto vs 30%\n",
    "H0 La proporcion de pacientes diabéticos con infarto en el estudio es igual al 30% reportado a nivel mundial.\n",
    "\n",
    "H1 La proporcion de pacientes diabéticos con infarto en el estudio es diferente al 30% reportado a nivel mundial."
   ]
  },
  {
   "cell_type": "code",
   "execution_count": 91,
   "id": "a4a0471d",
   "metadata": {},
   "outputs": [
    {
     "name": "stdout",
     "output_type": "stream",
     "text": [
      "Grupo infartados: 3139 personas con datos de diabetes\n",
      "\n",
      "Personas con diabetes: 2082 (66.33%)\n",
      "\n",
      "Proporción de referencia: 30%\n",
      "\n"
     ]
    }
   ],
   "source": [
    "diabet = df.loc[df[\"Heart Attack Risk\"]==1, \"Diabetes\"].dropna()\n",
    "ele = len(diabet) # Numero total \n",
    "c = diabet.sum() # Personas con diabetes. Como los valores son 0 y 1, la suma es como a contar cuantos 1 hay\n",
    "prop_observada = c / ele\n",
    "print(f\"Grupo infartados: {ele} personas con datos de diabetes\\n\")\n",
    "print(f\"Personas con diabetes: {c} ({prop_observada:.2%})\\n\")\n",
    "p0 = 0.3  # 30%\n",
    "print(f\"Proporción de referencia: {p0:.0%}\\n\")\n"
   ]
  },
  {
   "cell_type": "code",
   "execution_count": 94,
   "id": "00062547",
   "metadata": {},
   "outputs": [
    {
     "name": "stdout",
     "output_type": "stream",
     "text": [
      "Verificando supuestos del z-test para proporciones:\n",
      "- Valor esperado positivos (diabetes) = 941.70\n",
      "- Valor esperado negativos (no diabetes) = 2197.30\n",
      "El tamaño es suficiente  para usar z-test\n",
      "\n",
      "Prueba de proporciones para Diabetes entre infartados (z-test)\n",
      "Estadístico z = 43.0662, Valor_p = 0.0\n",
      "\n",
      "Conclusión:\n",
      "La proporción de diabetes en infartados difiere significativamente de 30% por lo tanto se rechaza H0\n",
      "   Esto indica que en este grupo la diabetes es más frecuente entre los infartadosque el valor de referencia del 30%.\n"
     ]
    }
   ],
   "source": [
    "e_pos = ele * p0\n",
    "e_neg = ele * (1 - p0)\n",
    "print(\"Verificando supuestos del z-test para proporciones:\")\n",
    "print(f\"- Valor esperado positivos (diabetes) = {e_pos:.2f}\")\n",
    "print(f\"- Valor esperado negativos (no diabetes) = {e_neg:.2f}\")\n",
    "\n",
    "if e_pos >= 5 and e_neg >= 5:\n",
    "    print(\"El tamaño es suficiente  para usar z-test\")\n",
    "    stat, pval = proportions(c, ele, p0, \"Diabetes entre infartados\", \"two-sided\")\n",
    "else:\n",
    "    print(\"Tamaño insuficiente hay que usar la prueba binomial exacta (no parametrica)\")\n",
    "    pval = binomial(c, ele, p0, \"two-sided\")\n",
    "print(\"\\nConclusión:\")\n",
    "if pval < 0.05:\n",
    "    print(\"La proporción de diabetes en infartados difiere significativamente de 30% por lo tanto se rechaza H0\")\n",
    "    print(f\"   Esto indica que en este grupo la diabetes es {\"más frecuente\" if prop_observada>p0 else \"menos frecuente\"} entre los infartadosque el valor de referencia del 30%.\")\n",
    "else:\n",
    "    print(\"No hay evidencia de diferencia respecto al 30% por lo tanto se rechaza H1\")\n",
    "    print(\"-----Esto sugiere que la proporción de diabetes entre infartados podría ser cercana al 30%, según los datos disponibles.\")"
   ]
  },
  {
   "cell_type": "code",
   "execution_count": 93,
   "id": "12209d2b",
   "metadata": {},
   "outputs": [
    {
     "data": {
      "image/png": "[encoded data removed]",
      "text/plain": [
       "<Figure size 600x500 with 1 Axes>"
      ]
     },
     "metadata": {},
     "output_type": "display_data"
    }
   ],
   "source": [
    "v = [prop_observada, p0]\n",
    "eti = [\"Proporción observada\", \"Referencia 30%\"]\n",
    "\n",
    "# Crear figura\n",
    "plt.figure(figsize=(6,5))\n",
    "jos = plt.bar(eti, v, color=[\"steelblue\", \"salmon\"], alpha=0.8)\n",
    "for jo in jos:\n",
    "    h = jo.get_height()\n",
    "    plt.text(jo.get_x() + jo.get_width()/2, h + 0.01, f\"{h:.1%}\", ha='center')\n",
    "\n",
    "plt.ylim(0, 1)\n",
    "plt.ylabel(\"Proporcion\")\n",
    "plt.title(\"Proporcion de diabetes en infartados vs la referencia\")\n",
    "plt.show()"
   ]
  }
 ],
 "metadata": {
  "kernelspec": {
   "display_name": "base",
   "language": "python",
   "name": "python3"
  },
  "language_info": {
   "codemirror_mode": {
    "name": "ipython",
    "version": 3
   },
   "file_extension": ".py",
   "mimetype": "text/x-python",
   "name": "python",
   "nbconvert_exporter": "python",
   "pygments_lexer": "ipython3",
   "version": "3.12.3"
  }
 },
 "nbformat": 4,
 "nbformat_minor": 5
}
